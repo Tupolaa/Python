{
 "cells": [
  {
   "cell_type": "code",
   "execution_count": 2,
   "metadata": {},
   "outputs": [
    {
     "name": "stdout",
     "output_type": "stream",
     "text": [
      "Printer app\n",
      "This app is made by Teemu\n",
      "The value of number1 is  6\n",
      "The value of number2 is  2\n",
      "6  *  2  =  12\n",
      "6  -  2  =  4\n",
      "6  +  2  =  8\n",
      "6  /  2  =  3.0\n"
     ]
    }
   ],
   "source": [
    "Creator=\"Teemu\"; n1=6; n2=2\n",
    "substraction=n1-n2\n",
    "division=n1/n2\n",
    "addition=n1+n2\n",
    "multiplication=n1*n2\n",
    "print(\"Printer app\")\n",
    "\n",
    "print(\"This app is made by\" , Creator )\n",
    "\n",
    "\n",
    "print(\"The value of number1 is \", n1)\n",
    "print(\"The value of number2 is \", n2)\n",
    "\n",
    "\n",
    "print(n1, \" * \", n2 , \" = \", multiplication)\n",
    "print(n1, \" - \", n2 , \" = \", substraction)\n",
    "print(n1, \" + \", n2 , \" = \", addition)\n",
    "print(n1, \" / \", n2 , \" = \", division)"
   ]
  }
 ],
 "metadata": {
  "kernelspec": {
   "display_name": "Python 3",
   "language": "python",
   "name": "python3"
  },
  "language_info": {
   "codemirror_mode": {
    "name": "ipython",
    "version": 3
   },
   "file_extension": ".py",
   "mimetype": "text/x-python",
   "name": "python",
   "nbconvert_exporter": "python",
   "pygments_lexer": "ipython3",
   "version": "3.12.0"
  }
 },
 "nbformat": 4,
 "nbformat_minor": 2
}
