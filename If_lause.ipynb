{
 "cells": [
  {
   "cell_type": "code",
   "execution_count": 14,
   "metadata": {},
   "outputs": [
    {
     "name": "stdout",
     "output_type": "stream",
     "text": [
      "ei tasaluku\n",
      "luku1 on suurempi tai yhtäsuuri\n",
      "n1 on isompi\n"
     ]
    }
   ],
   "source": [
    "n1=56; n2=54; n3 =100\n",
    "'''if n1 == n2:\n",
    "    print (\"tasaluku\")\n",
    "if not n1 == n2:\n",
    "    print (\"ei tasaluku\")\n",
    "if n1 >= n2:\n",
    "    print (\"luku1 on suurempi tai yhtäsuuri\")\n",
    "if n1 > n2:\n",
    "    print (\"n1 on isompi\")\n",
    "    '''\n",
    "if n1 == n2 & n2==n3:\n",
    "    print (\"tasaluku\")\n",
    "if not n1 == n2 | n2 == n3 :\n",
    "    print (\"luvut 1 ja 2 tai 2 ja 3 ovat samoja\")\n",
    "if n1 == n2:\n",
    "    print (\"luku1 on suurempi tai yhtäsuuri\")\n",
    "elif n1 ==n3:\n",
    "    print(\"Luvut 1 ja 3 ovat samoja\")\n",
    "  #  d. Test if number1 is greater than number2. If not, test if number2 is greater than number3.\n",
    "if n1 > n2:\n",
    "    print (\"n1 on isompi\")   \n",
    "elif n2 <n3:\n",
    "    print(\"luku2 on isompi kuin luku 3\")   \n",
    "    "
   ]
  },
  {
   "cell_type": "markdown",
   "metadata": {},
   "source": [
    "Create new Interactive Python Notebook and try to create the following structures. If condition is true, you can print for example “number 1 and number 2 are equal” (1a).\n",
    "\n",
    "1. Declare two variables number1 and number2. Assign values to the variables. You can (and have to) change the values during this exercise.\n",
    "\n",
    "a. Test if number1 is equal to number2.\n",
    "\n",
    "b. Test if number1 is greater than number2.\n",
    "\n",
    "c. Test if number1 is greater or equal to number2.\n",
    "\n",
    "d. Test if number1 is NOT equal to number2.\n",
    "\n",
    "2. Declare three variables number1, number2 and number3. Assign values to the variables. Change values to make the tests successfully.\n",
    "\n",
    "a. Test if all numbers are equal.\n",
    "\n",
    "b. Test if number1 and number2 are equal OR number2 and number3 are equal.\n",
    "\n",
    "c. Test if number1 is greater than number2 AND number1 is greater than number3.\n",
    "\n",
    "d. Test if number1 is greater than number2. If not, test if number2 is greater than number3.\n",
    "\n",
    "e. Test if number1 and number2 are equal. If not, test if number1 and number3 are equal.\n",
    "\n",
    "2. Make three string typed variable – for example name1, name2 and name3. Assign values.\n",
    "\n",
    "a. Test, if name1 and name2 are equal\n",
    "\n",
    "b. Test, if name1 and name2 are not equal\n",
    "\n",
    "c. Test, if name1 and name2 are equal. If not, test if name1 and name3 are equal."
   ]
  }
 ],
 "metadata": {
  "kernelspec": {
   "display_name": "Python 3",
   "language": "python",
   "name": "python3"
  },
  "language_info": {
   "codemirror_mode": {
    "name": "ipython",
    "version": 3
   },
   "file_extension": ".py",
   "mimetype": "text/x-python",
   "name": "python",
   "nbconvert_exporter": "python",
   "pygments_lexer": "ipython3",
   "version": "3.12.0"
  }
 },
 "nbformat": 4,
 "nbformat_minor": 2
}
