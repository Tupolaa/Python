{
 "cells": [
  {
   "cell_type": "code",
   "execution_count": 9,
   "metadata": {},
   "outputs": [
    {
     "name": "stdout",
     "output_type": "stream",
     "text": [
      "Arvaa uudestaan!\n",
      "Arvaa uudestaan!\n",
      "Arvaa uudestaan!\n",
      "Oikein! Arvasit  4\n"
     ]
    }
   ],
   "source": [
    "\n",
    "nimi = \"ettu\"\n",
    "Arvaus = \"\"\n",
    "kerta = 0\n",
    "while(Arvaus != nimi):\n",
    "    Arvaus = input(\"quess my name\")\n",
    "    \n",
    "    if Arvaus == nimi:\n",
    "        kerta = kerta+1\n",
    "        print(\"Oikein! Arvasit \", kerta)\n",
    "    else:\n",
    "        kerta = kerta+1\n",
    "        print(\"Arvaa uudestaan!\")\n",
    " \n",
    "\n",
    "\n"
   ]
  }
 ],
 "metadata": {
  "kernelspec": {
   "display_name": "Python 3",
   "language": "python",
   "name": "python3"
  },
  "language_info": {
   "codemirror_mode": {
    "name": "ipython",
    "version": 3
   },
   "file_extension": ".py",
   "mimetype": "text/x-python",
   "name": "python",
   "nbconvert_exporter": "python",
   "pygments_lexer": "ipython3",
   "version": "3.12.0"
  }
 },
 "nbformat": 4,
 "nbformat_minor": 2
}
