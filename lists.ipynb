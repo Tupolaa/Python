{
 "cells": [
  {
   "cell_type": "code",
   "execution_count": 20,
   "metadata": {},
   "outputs": [
    {
     "name": "stdout",
     "output_type": "stream",
     "text": [
      "['table', 'chair', 'shelf', 'sofa']\n",
      "['table', 'chair']\n",
      "sofa\n"
     ]
    }
   ],
   "source": [
    "Huonekalut = [\"table\", \"chair\", \"shelf\", \"sofa\"]\n",
    "print(Huonekalut)\n",
    "\n",
    "print(Huonekalut[0:2])\n",
    "\n",
    "if \"sofa\" in Huonekalut:\n",
    "    print(\"sofa\")\n",
    "    "
   ]
  }
 ],
 "metadata": {
  "kernelspec": {
   "display_name": "Python 3",
   "language": "python",
   "name": "python3"
  },
  "language_info": {
   "codemirror_mode": {
    "name": "ipython",
    "version": 3
   },
   "file_extension": ".py",
   "mimetype": "text/x-python",
   "name": "python",
   "nbconvert_exporter": "python",
   "pygments_lexer": "ipython3",
   "version": "3.12.0"
  }
 },
 "nbformat": 4,
 "nbformat_minor": 2
}
