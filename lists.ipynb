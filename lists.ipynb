{
 "cells": [
  {
   "cell_type": "code",
   "execution_count": 23,
   "metadata": {},
   "outputs": [
    {
     "name": "stdout",
     "output_type": "stream",
     "text": [
      "['table', 'chair', 'shelf', 'sofa']\n",
      "['table', 'chair']\n",
      "sofa\n"
     ]
    }
   ],
   "source": [
    "Huonekalut = [\"table\", \"chair\", \"shelf\", \"sofa\",]\n",
    "print(Huonekalut)\n",
    "\n",
    "print(Huonekalut[0:2])\n",
    "\n",
    "if \"sofa\" in Huonekalut:\n",
    "    print(\"sofa\")\n",
    "    "
   ]
  },
  {
   "cell_type": "code",
   "execution_count": 62,
   "metadata": {},
   "outputs": [
    {
     "name": "stdout",
     "output_type": "stream",
     "text": [
      "[15, 10, 12, 14, 13]\n",
      "64\n",
      "15\n"
     ]
    }
   ],
   "source": [
    "from random import randint\n",
    "thrownDiceNumbers = []\n",
    "for i in range(5):\n",
    "    luku = randint(10,15)\n",
    "    thrownDiceNumbers.append(luku)\n",
    "print (thrownDiceNumbers)\n",
    "\n",
    "numero1 = 0\n",
    "for numero in thrownDiceNumbers:\n",
    "    numero1 += numero\n",
    "print(numero1)\n",
    "\n",
    "isoin = 0\n",
    "for numero in thrownDiceNumbers:\n",
    "     if numero > isoin:\n",
    "        isoin = numero\n",
    "print(isoin)\n"
   ]
  }
 ],
 "metadata": {
  "kernelspec": {
   "display_name": "Python 3",
   "language": "python",
   "name": "python3"
  },
  "language_info": {
   "codemirror_mode": {
    "name": "ipython",
    "version": 3
   },
   "file_extension": ".py",
   "mimetype": "text/x-python",
   "name": "python",
   "nbconvert_exporter": "python",
   "pygments_lexer": "ipython3",
   "version": "3.12.0"
  }
 },
 "nbformat": 4,
 "nbformat_minor": 2
}
